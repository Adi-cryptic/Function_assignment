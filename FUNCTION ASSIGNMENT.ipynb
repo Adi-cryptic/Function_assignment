{
 "cells": [
  {
   "cell_type": "code",
   "execution_count": 1,
   "id": "55c312d4",
   "metadata": {},
   "outputs": [],
   "source": [
    "#1. What is the difference between a function and a method in Python?\n",
    "#ans. a function is a block of reusable code that performs a specific taskand a method is a function that belongs to an object (usually called on an instance of a class)\n",
    "# function is defined independenly and method is defined inside a class and associated with an object"
   ]
  },
  {
   "cell_type": "code",
   "execution_count": 2,
   "id": "445e8ab3",
   "metadata": {},
   "outputs": [],
   "source": [
    "#2. Explain the concept of function arguments and parameters in Python.\n",
    "#ans. Parameters → Variables listed inside the function's parentheses when defining it.\n",
    "#     Arguments → Actual values passed to the function when calling it."
   ]
  },
  {
   "cell_type": "code",
   "execution_count": 3,
   "id": "92ee13a6",
   "metadata": {},
   "outputs": [],
   "source": [
    "# 3. What are the different ways to define and call a function in Python?\n",
    "# ans. Functions in Python are typically defined using the def keyword, followed by a function name, parameters, and a block of code that executes when the function is called. The function may return a value using the return statement. This is the most common way to define a function."
   ]
  },
  {
   "cell_type": "code",
   "execution_count": 4,
   "id": "cf717724",
   "metadata": {},
   "outputs": [],
   "source": [
    "#4 . What is the purpose of the `return` statement in a Python function?\n",
    "#ans. The return statement in a Python function is used to send a value back to the caller and terminate the function execution. "
   ]
  },
  {
   "cell_type": "code",
   "execution_count": 5,
   "id": "41d72719",
   "metadata": {},
   "outputs": [],
   "source": [
    "#5.  What are iterators in Python and how do they differ from iterables?\n",
    "#ans.an iterator is an object representing a stream of data and this returns the elemnt one by one and iterables in any python/data structure that is capable of returning its member one at a time"
   ]
  },
  {
   "cell_type": "code",
   "execution_count": 6,
   "id": "7e0a47f5",
   "metadata": {},
   "outputs": [],
   "source": [
    "#6.Explain the concept of generators in Python and how they are defined.\n",
    "# ans.Generators in Python are a special type of iterable that allow for lazy evaluation, meaning they generate values one at a time as they are requested instead of storing them all in memory at once. This makes them highly efficient for working with large datasets or streams of data.\n",
    "#generators use the yield keyword to produce a series of values, pausing execution and resuming from the same state when called again.\n",
    "\n"
   ]
  },
  {
   "cell_type": "code",
   "execution_count": 7,
   "id": "5d0982bf",
   "metadata": {},
   "outputs": [],
   "source": [
    "#7. What are the advantages of using generators over regular functions?\n",
    "#ans. advantages are memory efficiency, faster execution, can generate infinite sequences and improve code stability.\n",
    "#      disadvantages are it cant be accessed randomly, difficult to debug, cant be reused"
   ]
  },
  {
   "cell_type": "code",
   "execution_count": 8,
   "id": "29017230",
   "metadata": {},
   "outputs": [],
   "source": [
    "#8. What is a lambda function in Python and when is it typically used?\n",
    "#ans. A lambda function in Python is an anonymous (nameless) function that can have multiple arguments but only a single expression. It is defined using the lambda keyword instead of def\n",
    "# Used in map(), filter(), and reduce() Functions"
   ]
  },
  {
   "cell_type": "code",
   "execution_count": 9,
   "id": "2645d13d",
   "metadata": {},
   "outputs": [],
   "source": [
    "#9. Explain the purpose and usage of the `map()` function in Python.\n",
    "#ans.The map() function in Python is used to apply a function to each item of an iterable (e.g., list, tuple, set) and return a new iterable (a map object) with the transformed values.\n",
    "#It is useful when you need to apply the same operation to multiple elements without writing explicit loops."
   ]
  },
  {
   "cell_type": "code",
   "execution_count": 10,
   "id": "e495fefc",
   "metadata": {},
   "outputs": [],
   "source": [
    "#10.What is the difference between `map()`, `reduce()`, and `filter()` functions in Python?\n",
    "#ans."
   ]
  },
  {
   "cell_type": "code",
   "execution_count": 11,
   "id": "7adabe07",
   "metadata": {},
   "outputs": [],
   "source": [
    "#11.Using pen & Paper write the internal mechanism for sum operation using  reduce function on this given\n",
    "#list:[47,11,42,13]; \n",
    "#ans. nums = [47, 11, 42, 13]\n",
    "#result = reduce(lambda x, y: x + y, nums)\n",
    "#print(result)\n",
    "#The first two elements are taken as x and y:47+11= 58\n",
    "#the result 58 becomes x and the next value 42 becomes y, x+y= 100\n",
    "#the result 100 becomes x and the next value becomes y, x+y= 113\n",
    "\n"
   ]
  },
  {
   "cell_type": "code",
   "execution_count": 12,
   "id": "604f0d97",
   "metadata": {},
   "outputs": [],
   "source": [
    "#PRACTICAL QUESTION"
   ]
  },
  {
   "cell_type": "code",
   "execution_count": 13,
   "id": "9d0b3492",
   "metadata": {},
   "outputs": [
    {
     "name": "stdout",
     "output_type": "stream",
     "text": [
      "110\n"
     ]
    }
   ],
   "source": [
    "#1. Write a Python function that takes a list of numbers as input and returns the sum of all even numbers in the list\n",
    "nums= [47,11,42,13,68]\n",
    "def sum_of_even(numbers):\n",
    "    return sum(num for num in numbers if num%2==0)\n",
    "result= sum_of_even(nums)\n",
    "print(result)"
   ]
  },
  {
   "cell_type": "code",
   "execution_count": 14,
   "id": "7a9fbbc5",
   "metadata": {},
   "outputs": [
    {
     "name": "stdout",
     "output_type": "stream",
     "text": [
      "sllikswp\n"
     ]
    }
   ],
   "source": [
    "#2. Create a Python function that accepts a string and returns the reverse of that string.\n",
    "def reverse_string(input_string):\n",
    "    return input_string[::-1]\n",
    "text = \"pwskills\"\n",
    "reversed_text = reverse_string(text)\n",
    "print(reversed_text) "
   ]
  },
  {
   "cell_type": "code",
   "execution_count": 15,
   "id": "e6a08617",
   "metadata": {},
   "outputs": [],
   "source": [
    "#3.  Implement a Python function that takes a list of integers and returns a new list containing the squares of each number\n",
    "l= [1,2,3,4,5]\n",
    "def square(l):\n",
    "    sq= []\n",
    "    for i in l:\n",
    "        sq.append(i**2)\n",
    "    return sq"
   ]
  },
  {
   "cell_type": "code",
   "execution_count": 17,
   "id": "30369ed8",
   "metadata": {},
   "outputs": [
    {
     "data": {
      "text/plain": [
       "[1, 4, 9, 16, 25]"
      ]
     },
     "execution_count": 17,
     "metadata": {},
     "output_type": "execute_result"
    }
   ],
   "source": [
    "square(l)"
   ]
  },
  {
   "cell_type": "code",
   "execution_count": 18,
   "id": "53232a97",
   "metadata": {},
   "outputs": [],
   "source": [
    "#4.Write a Python function that checks if a given number is prime or not from 1 to 200."
   ]
  },
  {
   "cell_type": "code",
   "execution_count": 19,
   "id": "1e3ceb7e",
   "metadata": {},
   "outputs": [],
   "source": [
    "#5. Create an iterator class in Python that generates the Fibonacci sequence up to a specified number of terms\n",
    "def fib(n):\n",
    "    a=0 \n",
    "    b=1\n",
    "    for i in range(n):   \n",
    "        yield a\n",
    "        a, b=b, a+b"
   ]
  },
  {
   "cell_type": "code",
   "execution_count": 20,
   "id": "ade5a6d0",
   "metadata": {},
   "outputs": [
    {
     "data": {
      "text/plain": [
       "<generator object fib at 0x00000202E16ED5F0>"
      ]
     },
     "execution_count": 20,
     "metadata": {},
     "output_type": "execute_result"
    }
   ],
   "source": [
    "fib(7)"
   ]
  },
  {
   "cell_type": "code",
   "execution_count": 22,
   "id": "966738bf",
   "metadata": {},
   "outputs": [],
   "source": [
    "f= fib(7)"
   ]
  },
  {
   "cell_type": "code",
   "execution_count": 23,
   "id": "a05c04bd",
   "metadata": {},
   "outputs": [
    {
     "data": {
      "text/plain": [
       "0"
      ]
     },
     "execution_count": 23,
     "metadata": {},
     "output_type": "execute_result"
    }
   ],
   "source": [
    "next(f)"
   ]
  },
  {
   "cell_type": "code",
   "execution_count": 24,
   "id": "5eabfa96",
   "metadata": {},
   "outputs": [
    {
     "data": {
      "text/plain": [
       "1"
      ]
     },
     "execution_count": 24,
     "metadata": {},
     "output_type": "execute_result"
    }
   ],
   "source": [
    "next(f)"
   ]
  },
  {
   "cell_type": "code",
   "execution_count": 25,
   "id": "47e30fb7",
   "metadata": {},
   "outputs": [
    {
     "data": {
      "text/plain": [
       "1"
      ]
     },
     "execution_count": 25,
     "metadata": {},
     "output_type": "execute_result"
    }
   ],
   "source": [
    "next(f)"
   ]
  },
  {
   "cell_type": "code",
   "execution_count": 26,
   "id": "a41f9c0c",
   "metadata": {},
   "outputs": [
    {
     "data": {
      "text/plain": [
       "2"
      ]
     },
     "execution_count": 26,
     "metadata": {},
     "output_type": "execute_result"
    }
   ],
   "source": [
    "next(f)"
   ]
  },
  {
   "cell_type": "code",
   "execution_count": 27,
   "id": "200b6392",
   "metadata": {},
   "outputs": [
    {
     "data": {
      "text/plain": [
       "3"
      ]
     },
     "execution_count": 27,
     "metadata": {},
     "output_type": "execute_result"
    }
   ],
   "source": [
    "next(f)"
   ]
  },
  {
   "cell_type": "code",
   "execution_count": 28,
   "id": "a4900d5d",
   "metadata": {},
   "outputs": [
    {
     "data": {
      "text/plain": [
       "5"
      ]
     },
     "execution_count": 28,
     "metadata": {},
     "output_type": "execute_result"
    }
   ],
   "source": [
    "next(f)"
   ]
  },
  {
   "cell_type": "code",
   "execution_count": 29,
   "id": "7eeaf778",
   "metadata": {},
   "outputs": [
    {
     "name": "stdout",
     "output_type": "stream",
     "text": [
      "1\n",
      "2\n",
      "4\n",
      "8\n",
      "16\n",
      "32\n"
     ]
    }
   ],
   "source": [
    "#.6.Write a generator function in Python that yields the powers of 2 up to a given exponent\n",
    "def powers_of_two(n):\n",
    "    for i in range(n + 1):\n",
    "        yield 2 ** i\n",
    "for value in powers_of_two(5):\n",
    "    print(value)"
   ]
  },
  {
   "cell_type": "code",
   "execution_count": 30,
   "id": "3ab65fd9",
   "metadata": {},
   "outputs": [],
   "source": [
    "#. 7. Implement a generator function that reads a file line by line and yields each line as a string.\n",
    "def read_file_line_by_line(file_path):\n",
    "    with open(file_path, 'r') as file:\n",
    "        for line in file:\n",
    "            yield line.rstrip('\\n') "
   ]
  },
  {
   "cell_type": "code",
   "execution_count": 31,
   "id": "9a4f0e05",
   "metadata": {},
   "outputs": [
    {
     "name": "stdout",
     "output_type": "stream",
     "text": [
      "[(2, 1), (3, 2), (1, 5), (4, 8)]\n"
     ]
    }
   ],
   "source": [
    "#.8.  Use a lambda function in Python to sort a list of tuples based on the second element of each tuple.\n",
    "data = [(1, 5), (3, 2), (4, 8), (2, 1)]\n",
    "sorted_data = sorted(data, key=lambda x: x[1])\n",
    "\n",
    "print(sorted_data)"
   ]
  },
  {
   "cell_type": "code",
   "execution_count": 32,
   "id": "10c1a8b2",
   "metadata": {},
   "outputs": [
    {
     "name": "stdout",
     "output_type": "stream",
     "text": [
      "Fahrenheit temperatures: [32.0, 68.0, 98.6, 212.0]\n"
     ]
    }
   ],
   "source": [
    "#9.. Write a Python program that uses `map()` to convert a list of temperatures from Celsius to Fahrenheit.\n",
    "celsius_temps = [0, 20, 37, 100]\n",
    "fahrenheit_temps = list(map(lambda c: (c * 9/5) + 32, celsius_temps))\n",
    "\n",
    "print(\"Fahrenheit temperatures:\", fahrenheit_temps)"
   ]
  },
  {
   "cell_type": "code",
   "execution_count": 34,
   "id": "1c9945cc",
   "metadata": {},
   "outputs": [
    {
     "name": "stdout",
     "output_type": "stream",
     "text": [
      "Original string: Hello, how are you?\n",
      "String without vowels: Hll, hw r y?\n"
     ]
    }
   ],
   "source": [
    "#10.Create a Python program that uses `filter()` to remove all the vowels from a given string\n",
    "def remove_vowels(text):\n",
    "    vowels = 'aeiouAEIOU'\n",
    "    return ''.join(filter(lambda char: char not in vowels, text))\n",
    "\n",
    "input_string = \"Hello, how are you?\"\n",
    "result = remove_vowels(input_string)\n",
    "\n",
    "print(\"Original string:\", input_string)\n",
    "print(\"String without vowels:\", result)"
   ]
  },
  {
   "cell_type": "code",
   "execution_count": null,
   "id": "a0ccfcc7",
   "metadata": {},
   "outputs": [],
   "source": []
  }
 ],
 "metadata": {
  "kernelspec": {
   "display_name": "Python 3",
   "language": "python",
   "name": "python3"
  },
  "language_info": {
   "codemirror_mode": {
    "name": "ipython",
    "version": 3
   },
   "file_extension": ".py",
   "mimetype": "text/x-python",
   "name": "python",
   "nbconvert_exporter": "python",
   "pygments_lexer": "ipython3",
   "version": "3.8.8"
  }
 },
 "nbformat": 4,
 "nbformat_minor": 5
}
